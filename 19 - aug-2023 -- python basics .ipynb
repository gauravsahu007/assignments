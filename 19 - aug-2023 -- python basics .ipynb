{
 "cells": [
  {
   "cell_type": "raw",
   "id": "cb692a0d-8531-4950-bc53-32f9980eb647",
   "metadata": {},
   "source": [
    "quesion no.1. Declare two variables, `x` and `y`, and assign them integer values. Swap the\n",
    "values of these variables without using any temporary variable."
   ]
  },
  {
   "cell_type": "code",
   "execution_count": 1,
   "id": "701a3677-5127-45eb-8af6-993421ba3cbf",
   "metadata": {},
   "outputs": [
    {
     "name": "stdin",
     "output_type": "stream",
     "text": [
      "the value of x 5\n"
     ]
    }
   ],
   "source": [
    "x = int(input(\"the value of x\"))"
   ]
  },
  {
   "cell_type": "code",
   "execution_count": 2,
   "id": "73cf0024-2511-421c-9817-aded069e57e2",
   "metadata": {},
   "outputs": [
    {
     "name": "stdin",
     "output_type": "stream",
     "text": [
      "the value of y 10\n"
     ]
    }
   ],
   "source": [
    "y = int(input(\"the value of y\"))"
   ]
  },
  {
   "cell_type": "code",
   "execution_count": 3,
   "id": "142313f9-07aa-40b8-82ec-ef084be1db66",
   "metadata": {},
   "outputs": [
    {
     "name": "stdout",
     "output_type": "stream",
     "text": [
      "before swapping numbers: 5    10\n",
      "\n"
     ]
    }
   ],
   "source": [
    "print(\"before swapping numbers: %d    %d\\n\" %(x,y))\n",
    "#swapping#\n",
    "x = x+y\n",
    "y = x-y\n",
    "x = x-y"
   ]
  },
  {
   "cell_type": "code",
   "execution_count": 5,
   "id": "b475c4b1-8c86-4df0-b6b3-46c511acc35a",
   "metadata": {},
   "outputs": [
    {
     "name": "stdout",
     "output_type": "stream",
     "text": [
      "After swapping: 10  5\n",
      "\n"
     ]
    }
   ],
   "source": [
    "print(\"After swapping: %d  %d\\n\"%(x,y))"
   ]
  },
  {
   "cell_type": "code",
   "execution_count": null,
   "id": "b581112a-0f0e-41a9-aa92-fd15f8213939",
   "metadata": {},
   "outputs": [],
   "source": []
  },
  {
   "cell_type": "raw",
   "id": "cc07bd04-8735-447a-a0db-c69ba7ae69d5",
   "metadata": {},
   "source": [
    "Question no.2.Create a program that calculates the area of a rectangle. Take the length and\n",
    "width as inputs from the user and store them in variables. Calculate and\n",
    "display the area."
   ]
  },
  {
   "cell_type": "code",
   "execution_count": 6,
   "id": "f23bdcf6-a793-4487-bce5-bfd74cd5a282",
   "metadata": {},
   "outputs": [
    {
     "name": "stdin",
     "output_type": "stream",
     "text": [
      "please enter the length of a triangle: 5\n"
     ]
    }
   ],
   "source": [
    "length = float(input('please enter the length of a triangle:'))"
   ]
  },
  {
   "cell_type": "code",
   "execution_count": 7,
   "id": "674cf274-e33e-49e4-9208-7dde16514b6d",
   "metadata": {},
   "outputs": [
    {
     "name": "stdin",
     "output_type": "stream",
     "text": [
      "please enter the width of a triangle: 8\n"
     ]
    }
   ],
   "source": [
    "width = float(input('please enter the width of a triangle:'))"
   ]
  },
  {
   "cell_type": "code",
   "execution_count": 8,
   "id": "84b6812d-89d7-4519-a06b-0bdb50a689d0",
   "metadata": {},
   "outputs": [],
   "source": [
    "# calculate the area\n",
    "area = length*width"
   ]
  },
  {
   "cell_type": "code",
   "execution_count": 10,
   "id": "d39a3686-116e-4d97-9517-971c347a3459",
   "metadata": {},
   "outputs": [
    {
     "name": "stdout",
     "output_type": "stream",
     "text": [
      "the area of a rectangle using 5.0 and 8.0 = 40.0\n"
     ]
    }
   ],
   "source": [
    "print(\"the area of a rectangle using\",length,\"and\",width,\"=\",area)"
   ]
  },
  {
   "cell_type": "code",
   "execution_count": null,
   "id": "9312872d-11dd-4db3-9e13-5c92d02fad81",
   "metadata": {},
   "outputs": [],
   "source": []
  },
  {
   "cell_type": "raw",
   "id": "6027ed1e-8dc8-45dc-9c08-4f94bdf59320",
   "metadata": {},
   "source": [
    "Question no.3. Write a Python program that converts temperatures from Celsius to\n",
    "Fahrenheit. Take the temperature in Celsius as input, store it in a variable,\n",
    "convert it to Fahrenheit, and display the result."
   ]
  },
  {
   "cell_type": "code",
   "execution_count": 12,
   "id": "22923a6b-ac6e-4e03-a2c1-ad72c8b1b60e",
   "metadata": {},
   "outputs": [
    {
     "name": "stdin",
     "output_type": "stream",
     "text": [
      "enter the temperature in celsius :\n",
      " 90\n"
     ]
    }
   ],
   "source": [
    "celsius = int(input(\"enter the temperature in celsius :\\n\"))"
   ]
  },
  {
   "cell_type": "code",
   "execution_count": 13,
   "id": "d60926bd-962d-4e0e-a7c5-03c69c3f109f",
   "metadata": {},
   "outputs": [],
   "source": [
    "fahrenheit =(1.8*celsius) + 32."
   ]
  },
  {
   "cell_type": "code",
   "execution_count": 14,
   "id": "4ebd5676-1c03-4432-87f7-8083d5d0f5e2",
   "metadata": {},
   "outputs": [
    {
     "name": "stdout",
     "output_type": "stream",
     "text": [
      "temperature in fahrenheit : 194.0\n"
     ]
    }
   ],
   "source": [
    "print(\"temperature in fahrenheit :\",fahrenheit)"
   ]
  },
  {
   "cell_type": "code",
   "execution_count": null,
   "id": "3b109f25-f9c1-4371-a85c-67137235527a",
   "metadata": {},
   "outputs": [],
   "source": []
  },
  {
   "cell_type": "raw",
   "id": "c24804e3-03bd-4770-990e-ea06a9359ff5",
   "metadata": {},
   "source": [
    "TOPIC: String Based Questions\n",
    "\n",
    "\n",
    "Question no.1. Write a Python program that takes a string as input and prints the length of\n",
    "the string."
   ]
  },
  {
   "cell_type": "code",
   "execution_count": 16,
   "id": "611b6176-94f8-4eae-8741-7066e6f2b10c",
   "metadata": {},
   "outputs": [],
   "source": [
    "x = \" hello my brother \""
   ]
  },
  {
   "cell_type": "code",
   "execution_count": 17,
   "id": "6e680865-355f-4e7d-af5f-84f33029ecc3",
   "metadata": {},
   "outputs": [
    {
     "name": "stdout",
     "output_type": "stream",
     "text": [
      " hello my brother \n"
     ]
    }
   ],
   "source": [
    "print(x)"
   ]
  },
  {
   "cell_type": "code",
   "execution_count": 18,
   "id": "44554bc0-b344-404b-b583-adac3227c30e",
   "metadata": {},
   "outputs": [
    {
     "data": {
      "text/plain": [
       "18"
      ]
     },
     "execution_count": 18,
     "metadata": {},
     "output_type": "execute_result"
    }
   ],
   "source": [
    "len(x)"
   ]
  },
  {
   "cell_type": "code",
   "execution_count": null,
   "id": "7f1a3ad6-3ef1-4bf8-9599-a86fd569d209",
   "metadata": {},
   "outputs": [],
   "source": []
  },
  {
   "cell_type": "raw",
   "id": "29ffc78f-8293-4d16-ad1a-e62d0a6aef00",
   "metadata": {},
   "source": [
    "Question no.2.Create a program that takes a sentence from the user and counts the number\n",
    "of vowels (a, e, i, o, u) in the string."
   ]
  },
  {
   "cell_type": "code",
   "execution_count": 1,
   "id": "ff30cb26-3d70-4f2f-9ebb-5ac08c2f3bec",
   "metadata": {},
   "outputs": [
    {
     "name": "stdin",
     "output_type": "stream",
     "text": [
      "enter the string: gauravRAJEEV\n"
     ]
    }
   ],
   "source": [
    "string =input('enter the string:')"
   ]
  },
  {
   "cell_type": "code",
   "execution_count": 3,
   "id": "4bb6479c-8ed6-4ed0-8b73-c59355e82153",
   "metadata": {},
   "outputs": [],
   "source": [
    "count = 0"
   ]
  },
  {
   "cell_type": "code",
   "execution_count": 4,
   "id": "0456b07c-bcb1-4d87-bee3-c34d4c699de4",
   "metadata": {},
   "outputs": [],
   "source": [
    "string = string.lower()\n",
    "for i in string:\n",
    "    if i=='a' or i=='e' or i=='i' or i=='o' or i=='u':\n",
    "        count+=1"
   ]
  },
  {
   "cell_type": "code",
   "execution_count": 5,
   "id": "fe6f9860-11f6-4f07-ae7a-6ae2d377b86a",
   "metadata": {},
   "outputs": [
    {
     "name": "stdout",
     "output_type": "stream",
     "text": [
      "total vowels are :6\n"
     ]
    }
   ],
   "source": [
    "if count==0:\n",
    "    print('no vowels found')\n",
    "else:\n",
    "    print('total vowels are :'+ str(count))"
   ]
  },
  {
   "cell_type": "code",
   "execution_count": null,
   "id": "8259c876-0de4-484b-8792-dd30dcc4cda1",
   "metadata": {},
   "outputs": [],
   "source": []
  },
  {
   "cell_type": "raw",
   "id": "384de432-9e74-442b-b929-65ad7f48d416",
   "metadata": {},
   "source": [
    "Question no.3. Given a string, reverse the order of characters using string slicing and print\n",
    "the reversed string."
   ]
  },
  {
   "cell_type": "code",
   "execution_count": 7,
   "id": "3ec98e5c-ae16-47f6-8225-d49a8d1b48b8",
   "metadata": {},
   "outputs": [],
   "source": [
    "# function to reverse a string\n",
    "def reverse (string):\n",
    "    string = string[::-1]\n",
    "    return string"
   ]
  },
  {
   "cell_type": "code",
   "execution_count": 8,
   "id": "85db8ce1-38c3-4551-9af0-9ca0cb566cb0",
   "metadata": {},
   "outputs": [],
   "source": [
    "s = \"gauravdawoodansu\""
   ]
  },
  {
   "cell_type": "code",
   "execution_count": 9,
   "id": "1c7a2e0b-3ab8-483f-8201-841c9f3b913d",
   "metadata": {},
   "outputs": [
    {
     "name": "stdout",
     "output_type": "stream",
     "text": [
      " the original string is : "
     ]
    }
   ],
   "source": [
    "print(\" the original string is : \", end=\"\")"
   ]
  },
  {
   "cell_type": "code",
   "execution_count": 10,
   "id": "ee5f2f98-47d1-434c-9144-43ff0ddcd9c7",
   "metadata": {},
   "outputs": [
    {
     "name": "stdout",
     "output_type": "stream",
     "text": [
      "gauravdawoodansu\n"
     ]
    }
   ],
   "source": [
    "print(s)"
   ]
  },
  {
   "cell_type": "code",
   "execution_count": 11,
   "id": "39a8bee2-c074-4dd2-8371-d86154570771",
   "metadata": {},
   "outputs": [
    {
     "name": "stdout",
     "output_type": "stream",
     "text": [
      "the reverse string(using extended slice syntax) is : "
     ]
    }
   ],
   "source": [
    "print(\"the reverse string(using extended slice syntax) is : \", end=\"\")"
   ]
  },
  {
   "cell_type": "code",
   "execution_count": 12,
   "id": "53562d70-08c0-4a1f-894b-7a967b469f5c",
   "metadata": {},
   "outputs": [
    {
     "name": "stdout",
     "output_type": "stream",
     "text": [
      "usnadoowadvaruag\n"
     ]
    }
   ],
   "source": [
    "print( reverse(s))"
   ]
  },
  {
   "cell_type": "code",
   "execution_count": null,
   "id": "24216b36-adf8-4a0b-b843-76984e28cb29",
   "metadata": {},
   "outputs": [],
   "source": []
  },
  {
   "cell_type": "raw",
   "id": "c007650c-5182-465b-8f9e-efdfac41528b",
   "metadata": {},
   "source": [
    "Question no.4. Write a program that takes a string as input and checks if it is a palindrome\n",
    "(reads the same forwards and backwards)."
   ]
  },
  {
   "cell_type": "code",
   "execution_count": 14,
   "id": "82abd767-b340-4c19-8ee5-65cba9891816",
   "metadata": {},
   "outputs": [],
   "source": [
    "def ispalindrome(s):\n",
    "    return s == s[::-1]"
   ]
  },
  {
   "cell_type": "code",
   "execution_count": 24,
   "id": "7388bba6-e8c4-41b4-be53-28cb3e7b706f",
   "metadata": {},
   "outputs": [
    {
     "name": "stdout",
     "output_type": "stream",
     "text": [
      "Yes\n"
     ]
    }
   ],
   "source": [
    "#driver code\n",
    "s = \"malayalam\"\n",
    "ans = ispalindrome(s)\n",
    "\n",
    "if ans:\n",
    "    print ( \"Yes\" )\n",
    "else:\n",
    "    print ( \"No\" )"
   ]
  },
  {
   "cell_type": "code",
   "execution_count": null,
   "id": "85528a6c-82dd-4ad6-b11c-ca110898cccd",
   "metadata": {},
   "outputs": [],
   "source": []
  },
  {
   "cell_type": "code",
   "execution_count": null,
   "id": "4f6d9d11-a45d-4bc7-b799-cfcd4eb1efff",
   "metadata": {},
   "outputs": [],
   "source": []
  },
  {
   "cell_type": "raw",
   "id": "b316f6c2-7071-43c7-acae-6aff718e109b",
   "metadata": {},
   "source": [
    "Question no.5.Create a program that takes a string as input and removes all the spaces from\n",
    "it. Print the modified string without spaces."
   ]
  },
  {
   "cell_type": "code",
   "execution_count": 27,
   "id": "91ae441a-0f0e-4bef-944b-3fdd2a353c72",
   "metadata": {},
   "outputs": [],
   "source": [
    "#python 3 code to remove whitespace\n",
    "def remove(string):\n",
    "    return string.replace(\" \" ,  \"\")"
   ]
  },
  {
   "cell_type": "code",
   "execution_count": 33,
   "id": "2c1a6c9f-0dc3-4389-8c1c-56f909c07d0b",
   "metadata": {},
   "outputs": [
    {
     "name": "stdout",
     "output_type": "stream",
     "text": [
      "gauravdawood\n"
     ]
    }
   ],
   "source": [
    "#driver program\n",
    "string = 'g a u r a v d a w o o d'\n",
    "print(remove(string))"
   ]
  },
  {
   "cell_type": "code",
   "execution_count": null,
   "id": "be6be0e6-4e33-4bb4-b3e9-0a1d32fedfe3",
   "metadata": {},
   "outputs": [],
   "source": []
  }
 ],
 "metadata": {
  "kernelspec": {
   "display_name": "Python 3 (ipykernel)",
   "language": "python",
   "name": "python3"
  },
  "language_info": {
   "codemirror_mode": {
    "name": "ipython",
    "version": 3
   },
   "file_extension": ".py",
   "mimetype": "text/x-python",
   "name": "python",
   "nbconvert_exporter": "python",
   "pygments_lexer": "ipython3",
   "version": "3.10.8"
  }
 },
 "nbformat": 4,
 "nbformat_minor": 5
}
